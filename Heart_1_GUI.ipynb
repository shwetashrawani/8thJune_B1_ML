{
 "cells": [
  {
   "cell_type": "code",
   "execution_count": 1,
   "id": "afb615ca-c79b-4cd0-9779-acef073aad12",
   "metadata": {},
   "outputs": [],
   "source": [
    "import numpy as np\n",
    "import pandas as pd\n",
    "import tkinter as tk\n",
    "import warnings \n",
    "warnings.filterwarnings ('ignore')\n",
    "import sklearn as skl"
   ]
  },
  {
   "cell_type": "code",
   "execution_count": 2,
   "id": "7b87df72-fb5b-4538-959f-3656e06e2fa5",
   "metadata": {},
   "outputs": [],
   "source": [
    "m=pd.read_pickle('Heart.pkl')"
   ]
  },
  {
   "cell_type": "code",
   "execution_count": null,
   "id": "8872172f-c343-4391-82b8-3ddab0666251",
   "metadata": {},
   "outputs": [],
   "source": [
    "app=tk.Tk()\n",
    "app.geometry(\"500x500\")\n",
    "app.title\n",
    "\n"
   ]
  }
 ],
 "metadata": {
  "kernelspec": {
   "display_name": "Python 3",
   "language": "python",
   "name": "python3"
  },
  "language_info": {
   "codemirror_mode": {
    "name": "ipython",
    "version": 3
   },
   "file_extension": ".py",
   "mimetype": "text/x-python",
   "name": "python",
   "nbconvert_exporter": "python",
   "pygments_lexer": "ipython3",
   "version": "3.8.8"
  }
 },
 "nbformat": 4,
 "nbformat_minor": 5
}
