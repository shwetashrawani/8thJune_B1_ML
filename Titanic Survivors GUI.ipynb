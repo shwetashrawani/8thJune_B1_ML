{
 "cells": [
  {
   "cell_type": "code",
   "execution_count": 1,
   "source": [
    "import pandas as pd \r\n",
    "import tkinter as tk\r\n",
    "import warnings \r\n",
    "warnings.filterwarnings('ignore')"
   ],
   "outputs": [],
   "metadata": {}
  },
  {
   "cell_type": "code",
   "execution_count": 2,
   "source": [
    "m = pd.read_pickle(r'D:\\Projects\\Models\\titanic Survivors Prediction.pkl')\r\n",
    "\r\n",
    "app=tk.Tk()\r\n",
    "app.geometry('450x400')\r\n",
    "app.title('Survivors')\r\n",
    "\r\n",
    "bg=tk.PhotoImage(file='titanic_PNG27.png')\r\n",
    "bg=bg.subsample(2)\r\n",
    "\r\n",
    "canvas=tk.Canvas(app,width=450,height=300)\r\n",
    "canvas.pack(fill='both',expand=True)\r\n",
    "canvas.create_image(0,0,image=bg,anchor='nw')\r\n",
    "\r\n",
    "canvas.create_text(220,10,text='Survivors Prediction')\r\n",
    "\r\n",
    "def Predict():\r\n",
    "    pc = input('Enter PClass')\r\n",
    "    age = input('Enter Age')\r\n",
    "    sib = input('Enter SibSp')\r\n",
    "    par = input('Enter Parch')\r\n",
    "    fare = input('Enter Fare')\r\n",
    "    female = input('Enter Female')\r\n",
    "    male = input('Enter Male')\r\n",
    "\r\n",
    "    inp = pd.DataFrame({'Pclass':[pc],'Age':[age],'SibSp':[sib],'Parch':[par],'Fare':[par],'female':[female],'male':[male]})\r\n",
    "\r\n",
    "pc = canvas.create_text(100,60,anchor='nw',text='Enter PClass')\r\n",
    "age = canvas.create_text(100,80,anchor='nw',text='Enter Age')\r\n",
    "sib = canvas.create_text(100,100,anchor='nw',text='Enter SibSp')\r\n",
    "par = canvas.create_text(100,120,anchor='nw',text='Enter Parch')\r\n",
    "fare = canvas.create_text(100,140,anchor='nw',text='Enter Fare')\r\n",
    "female = canvas.create_text(100,160,anchor='nw',text='Enter Female')\r\n",
    "male = canvas.create_text(100,180,anchor='nw',text='Enter Male')\r\n",
    "\r\n",
    "Entry_pc = tk.Variable(app)\r\n",
    "tk.Entry(app,textvariable=Entry_pc).place(x=260,y=60,height=20)\r\n",
    "\r\n",
    "Entry_age = tk.Variable(app)\r\n",
    "tk.Entry(app,textvariable=Entry_age).place(x=260,y=80,height=20)\r\n",
    "\r\n",
    "Entry_sib = tk.Variable(app)\r\n",
    "tk.Entry(app,textvariable=Entry_sib).place(x=260,y=100,height=20)\r\n",
    "\r\n",
    "Entry_par = tk.Variable(app)\r\n",
    "tk.Entry(app,textvariable=Entry_par).place(x=260,y=120,height=20)\r\n",
    "\r\n",
    "Entry_fare = tk.Variable(app)\r\n",
    "tk.Entry(app,textvariable=Entry_fare).place(x=260,y=140,height=20)\r\n",
    "\r\n",
    "Entry_female = tk.Variable(app)\r\n",
    "tk.Entry(app,textvariable=Entry_female).place(x=260,y=160,height=20)\r\n",
    "\r\n",
    "Entry_male = tk.Variable(app)\r\n",
    "tk.Entry(app,textvariable=Entry_male).place(x=260,y=180,height=20)\r\n",
    "\r\n",
    "\r\n",
    "tk.Button(app,text='Predict Survivor',command=Predict,bg='light blue').place(x=260,y=310,height=20)\r\n",
    "\r\n",
    "predicted_profit = tk.Variable(app)\r\n",
    "predicted_profit.set('The Prediction Is')\r\n",
    "tk.Label(app,textvariable=predicted_profit).place(x=100,y=330)\r\n",
    "\r\n",
    "result = tk.Variable(app)\r\n",
    "result.set('')\r\n",
    "tk.Entry(app,textvariable=result).place(x=260,y=350,height=20)\r\n",
    "\r\n",
    "\r\n",
    "app.mainloop()"
   ],
   "outputs": [
    {
     "output_type": "error",
     "ename": "NameError",
     "evalue": "name 'bg' is not defined",
     "traceback": [
      "\u001b[1;31m---------------------------------------------------------------------------\u001b[0m",
      "\u001b[1;31mNameError\u001b[0m                                 Traceback (most recent call last)",
      "\u001b[1;32m<ipython-input-2-3f995132ecd4>\u001b[0m in \u001b[0;36m<module>\u001b[1;34m\u001b[0m\n\u001b[0;32m      6\u001b[0m \u001b[1;33m\u001b[0m\u001b[0m\n\u001b[0;32m      7\u001b[0m \u001b[0mg\u001b[0m\u001b[1;33m=\u001b[0m\u001b[0mtk\u001b[0m\u001b[1;33m.\u001b[0m\u001b[0mPhotoImage\u001b[0m\u001b[1;33m(\u001b[0m\u001b[0mfile\u001b[0m\u001b[1;33m=\u001b[0m\u001b[1;34m'titanic_PNG27.png'\u001b[0m\u001b[1;33m)\u001b[0m\u001b[1;33m\u001b[0m\u001b[1;33m\u001b[0m\u001b[0m\n\u001b[1;32m----> 8\u001b[1;33m \u001b[0mbg\u001b[0m\u001b[1;33m=\u001b[0m\u001b[0mbg\u001b[0m\u001b[1;33m.\u001b[0m\u001b[0msubsample\u001b[0m\u001b[1;33m(\u001b[0m\u001b[1;36m2\u001b[0m\u001b[1;33m)\u001b[0m\u001b[1;33m\u001b[0m\u001b[1;33m\u001b[0m\u001b[0m\n\u001b[0m\u001b[0;32m      9\u001b[0m \u001b[1;33m\u001b[0m\u001b[0m\n\u001b[0;32m     10\u001b[0m \u001b[0mcanvas\u001b[0m\u001b[1;33m=\u001b[0m\u001b[0mtk\u001b[0m\u001b[1;33m.\u001b[0m\u001b[0mCanvas\u001b[0m\u001b[1;33m(\u001b[0m\u001b[0mapp\u001b[0m\u001b[1;33m,\u001b[0m\u001b[0mwidth\u001b[0m\u001b[1;33m=\u001b[0m\u001b[1;36m450\u001b[0m\u001b[1;33m,\u001b[0m\u001b[0mheight\u001b[0m\u001b[1;33m=\u001b[0m\u001b[1;36m300\u001b[0m\u001b[1;33m)\u001b[0m\u001b[1;33m\u001b[0m\u001b[1;33m\u001b[0m\u001b[0m\n",
      "\u001b[1;31mNameError\u001b[0m: name 'bg' is not defined"
     ]
    }
   ],
   "metadata": {}
  }
 ],
 "metadata": {
  "orig_nbformat": 4,
  "language_info": {
   "name": "python",
   "version": "3.9.5",
   "mimetype": "text/x-python",
   "codemirror_mode": {
    "name": "ipython",
    "version": 3
   },
   "pygments_lexer": "ipython3",
   "nbconvert_exporter": "python",
   "file_extension": ".py"
  },
  "kernelspec": {
   "name": "python3",
   "display_name": "Python 3.9.5 64-bit"
  },
  "interpreter": {
   "hash": "686f372cfa9fca3158af1cb236269f9be773e56934179203fa072774a55f0176"
  }
 },
 "nbformat": 4,
 "nbformat_minor": 2
}