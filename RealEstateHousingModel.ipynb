{
 "cells": [
  {
   "cell_type": "code",
   "execution_count": 39,
   "id": "717aaf63-a17e-4188-8a4d-0ccda5f5c40a",
   "metadata": {},
   "outputs": [],
   "source": [
    "from tkinter import *\n",
    "import pandas as pd\n",
    "\n",
    "model=pd.read_pickle('house_price_predictor.pkl')\n",
    "\n",
    "app=Tk()\n",
    "app.title('Housing_Model')\n",
    "app.geometry('500x500+500+150')\n",
    "fnt=('arial',17,'italic')\n",
    "\n",
    "def prediction():\n",
    "    inc=income.get()\n",
    "    age=house_age.get()\n",
    "    room=rooms.get()\n",
    "    pop=population.get()\n",
    "    query=pd.DataFrame({'income':[inc],'house_age':[age],'rooms':[room],'population':[pop]})\n",
    "    result.set(model.predict(query)[0])\n",
    "    result.get()\n",
    "income=IntVar()\n",
    "income.set('')\n",
    "house_age=IntVar()\n",
    "house_age.set('')\n",
    "rooms=IntVar()\n",
    "rooms.set('')\n",
    "population=IntVar()\n",
    "population.set('')\n",
    "\n",
    "Label(app,font=fnt,text=\"Enter Avg Income\").place(x=50,y=20,height=50,width=180)\n",
    "Label(app,font=fnt,text=\"Enter House Age\").place(x=50,y=80,height=50,width=180)\n",
    "Label(app,font=fnt,text=\"Enter No of Room\").place(x=50,y=160,height=50,width=180)\n",
    "Label(app,font=fnt,text=\"Enter population\").place(x=50,y=240,height=50,width=180)\n",
    "\n",
    "Entry(app,font=fnt,textvariable=income).place(x=250,y=20,height=50,width=180)\n",
    "Entry(app,font=fnt,textvariable=house_age).place(x=250,y=80,height=50,width=180)\n",
    "Entry(app,font=fnt,textvariable=rooms).place(x=250,y=160,height=50,width=180)\n",
    "Entry(app,font=fnt,textvariable=population).place(x=250,y=240,height=50,width=180)\n",
    "\n",
    "result=DoubleVar()   \n",
    "Entry(app,textvariable=result,font=fnt).place(x=260,y=350,height=50,width=190)\n",
    "\n",
    "Button(app,text=\"Show Price\",command=prediction,font=fnt).place(x=50,y=350,height=50,width=190)\n",
    "\n",
    "app.mainloop()"
   ]
  }
 ],
 "metadata": {
  "kernelspec": {
   "display_name": "Python 3",
   "language": "python",
   "name": "python3"
  },
  "language_info": {
   "codemirror_mode": {
    "name": "ipython",
    "version": 3
   },
   "file_extension": ".py",
   "mimetype": "text/x-python",
   "name": "python",
   "nbconvert_exporter": "python",
   "pygments_lexer": "ipython3",
   "version": "3.8.8"
  }
 },
 "nbformat": 4,
 "nbformat_minor": 5
}
