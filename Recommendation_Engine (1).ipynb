{
 "cells": [
  {
   "cell_type": "code",
   "execution_count": null,
   "id": "206ed2d8-65c2-4b6e-8a06-ed5367c070da",
   "metadata": {},
   "outputs": [],
   "source": [
    "import tkinter as tk\n",
    "import pandas as pd\n",
    "import numpy as np\n",
    "\n",
    "df=pd.read_csv('u.data',sep='\\t',names= [\"user_id\",\"item_id\",\"rating\",\"ts\"])\n",
    "cols= \"item_id|title| release date | video release date | \\\n",
    "              IMDb URL | unknown | Action | Adventure | Animation | \\\n",
    "              Children's | Comedy | Crime | Documentary | Drama | Fantasy | \\\n",
    "              Film-Noir | Horror | Musical | Mystery | Romance | Sci-Fi | \\\n",
    "              Thriller | War | Western |\".split('|')\n",
    "movies=pd.read_csv('u.item',sep=\"|\",names=cols)\n",
    "data=pd.merge(df.drop('ts',axis=1),movies[['item_id','title']],on='item_id')\n",
    "movies_rates= data.groupby('title')['rating'].count()\n",
    "df_pivot=data.pivot_table(index='user_id',columns='title',values='rating')\n",
    "\n",
    "app=tk.Tk()\n",
    "app.geometry('500x500+500+150')\n",
    "app.title('Recommendation Engine')\n",
    "\n",
    "listbox=tk.Listbox(app,fg='red')\n",
    "listbox.place(x=20,y=20,width=250,height=400)\n",
    "for i,t in enumerate(data['title'].unique()):\n",
    "    \n",
    "    listbox.insert(i+1,  t)\n",
    "   \n",
    "    \n",
    "def recommend():\n",
    "    inp=listbox.get(listbox.curselection())\n",
    "    sim_inp= pd.DataFrame(df_pivot.corrwith(df_pivot[inp]),columns=['Correlation'])\n",
    "    sim_inp['Count']=rate_count\n",
    "    \n",
    "    recom=sim_inp[sim_inp['Count']>100].sort_values(by='Correlation',ascending=False)\n",
    "    recom.drop(inp,axis=0,inplace=True)\n",
    "    recommended=recom.index[:3]\n",
    "    result1.set(recommended[0])\n",
    "    result2.set(recommended[1])\n",
    "    result3.set(recommended[2])\n",
    "   \n",
    "    \n",
    "    \n",
    "tk.Button(app,text='Show Recommendation',command=recommend,fg='black',bg='white').place(x=290,y=20,width=190,height=50)\n",
    "result1=Variable(app)\n",
    "result1.set('.')\n",
    "tk.Label(app,textvariable=result1).place(x=290,y=90)\n",
    "result2=Variable(app)\n",
    "result2.set('.')\n",
    "tk.Label(app,textvariable=result2).place(x=290,y=150)\n",
    "result3=Variable(app)\n",
    "result3.set('.')\n",
    "tk.Label(app,textvariable=result3).place(x=290,y=210)\n",
    "app.mainloop()"
   ]
  }
 ],
 "metadata": {
  "kernelspec": {
   "display_name": "Python 3",
   "language": "python",
   "name": "python3"
  },
  "language_info": {
   "codemirror_mode": {
    "name": "ipython",
    "version": 3
   },
   "file_extension": ".py",
   "mimetype": "text/x-python",
   "name": "python",
   "nbconvert_exporter": "python",
   "pygments_lexer": "ipython3",
   "version": "3.8.8"
  }
 },
 "nbformat": 4,
 "nbformat_minor": 5
}
