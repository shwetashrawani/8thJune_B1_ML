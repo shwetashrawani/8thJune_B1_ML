{
 "cells": [
  {
   "cell_type": "code",
   "execution_count": 1,
   "source": [
    "import pandas as pd \r\n",
    "import sklearn as skl \r\n",
    "import tkinter as tk \r\n",
    "import warnings \r\n",
    "warnings.filterwarnings('ignore')"
   ],
   "outputs": [],
   "metadata": {}
  },
  {
   "cell_type": "code",
   "execution_count": 2,
   "source": [
    "m = pd.read_pickle(r'D:\\Projects\\Models\\Flower.pkl')\r\n",
    "\r\n",
    "app=tk.Tk()\r\n",
    "app.geometry('450x300')\r\n",
    "app.title(' Flower Species Classification')\r\n",
    "\r\n",
    "#Background-->\r\n",
    "bg=tk.PhotoImage(file='bg.png')\r\n",
    "#For storing extra sample:\r\n",
    "bg=bg.subsample(2)\r\n",
    "#bg using label\r\n",
    "#bg_label=tk.Label(app,image=bg).place(x=0, y=0, relwidth=1, relheight=1)\r\n",
    "#bg_label=tk.Label(app,image=bg).pack()\r\n",
    "#Creating Canvas:-->\r\n",
    "canvas1=tk.Canvas(app,width=450,height=300)\r\n",
    "canvas1.pack(fill='both',expand=True)\r\n",
    "canvas1.create_image(0,0,image=bg,anchor='nw')\r\n",
    "\r\n",
    "#for displaying the text\r\n",
    "canvas1.create_text(220,10,text=' Flower Species')\r\n",
    "\r\n",
    "#for prediction of house price\r\n",
    "def Predict():\r\n",
    "    sp_len = eval(Entry_sp_len.get())\r\n",
    "    sp_wid = eval(Entry_sp_wid.get())\r\n",
    "    pt_len = eval(Entry_pt_len.get())\r\n",
    "    pt_wid = eval(Entry_pt_wid.get())\r\n",
    "\r\n",
    "    inp = pd.DataFrame({'SL':[sp_len],'SW':[sp_wid],'PL':[pt_len],'PW':[pt_wid]})\r\n",
    "    result.set(round(m.predict(inp)[0],2))\r\n",
    "\r\n",
    "\r\n",
    "sp_len=canvas1.create_text(100,60,anchor='nw',text='Enter the Sepal Length(cm.)')   \r\n",
    "\r\n",
    "sp_wid=canvas1.create_text(100,80,anchor='nw',text='Enter the Sepal Width(cm.)')\r\n",
    "\r\n",
    "pt_len=canvas1.create_text(100,100,anchor='nw',text='Enter the Petal Length(cm.)')\r\n",
    "\r\n",
    "pt_wid=canvas1.create_text(100,120,anchor='nw',text='Enter the Petal Width(cm.)')\r\n",
    "\r\n",
    "Entry_sp_len=tk.Variable(app)\r\n",
    "tk.Entry(app,textvariable=Entry_sp_len).place(x=260,y=60,height=20)\r\n",
    "\r\n",
    "Entry_sp_wid=tk.Variable(app)\r\n",
    "tk.Entry(app,textvariable=Entry_sp_wid).place(x=260,y=80,height=20)\r\n",
    "\r\n",
    "Entry_pt_len=tk.Variable(app)\r\n",
    "tk.Entry(app,textvariable=Entry_pt_len).place(x=260,y=100,height=20)\r\n",
    "\r\n",
    "Entry_pt_wid=tk.Variable(app)\r\n",
    "tk.Entry(app,textvariable=Entry_pt_wid).place(x=260,y=120,height=20)\r\n",
    "\r\n",
    "tk.Button(app,text='Predict Flower Species',command=Predict,bg='light yellow').place(x=260,y=220,height=20)\r\n",
    "\r\n",
    "Predicted_species=tk.Variable(app)\r\n",
    "Predicted_species.set('The Predicted Flower Species')\r\n",
    "tk.Label(app,textvariable=Predicted_species).place(x=100,y=250)\r\n",
    "\r\n",
    "result=tk.Variable(app)\r\n",
    "result.set('')\r\n",
    "tk.Entry(app,textvariable=result).place(x=260,y=257,height=20)\r\n",
    "\r\n",
    "\r\n",
    "app.mainloop()"
   ],
   "outputs": [],
   "metadata": {}
  },
  {
   "cell_type": "code",
   "execution_count": null,
   "source": [],
   "outputs": [],
   "metadata": {}
  }
 ],
 "metadata": {
  "orig_nbformat": 4,
  "language_info": {
   "name": "python",
   "version": "3.9.5",
   "mimetype": "text/x-python",
   "codemirror_mode": {
    "name": "ipython",
    "version": 3
   },
   "pygments_lexer": "ipython3",
   "nbconvert_exporter": "python",
   "file_extension": ".py"
  },
  "kernelspec": {
   "name": "python3",
   "display_name": "Python 3.9.5 64-bit"
  },
  "interpreter": {
   "hash": "686f372cfa9fca3158af1cb236269f9be773e56934179203fa072774a55f0176"
  }
 },
 "nbformat": 4,
 "nbformat_minor": 2
}